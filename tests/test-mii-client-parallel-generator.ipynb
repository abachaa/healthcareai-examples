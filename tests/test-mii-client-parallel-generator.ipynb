{
 "cells": [
  {
   "cell_type": "code",
   "execution_count": null,
   "metadata": {},
   "outputs": [],
   "source": [
    "import glob\n",
    "import json\n",
    "import os\n",
    "import numpy as np\n",
    "import pandas as pd\n",
    "\n",
    "from healthcareai_toolkit.clients import MedImageInsightClient\n",
    "from healthcareai_toolkit import settings"
   ]
  },
  {
   "cell_type": "code",
   "execution_count": null,
   "metadata": {},
   "outputs": [
    {
     "name": "stdout",
     "output_type": "stream",
     "text": [
      "4833\n",
      "50\n"
     ]
    }
   ],
   "source": [
    "data_dir = settings.PARALLEL_TEST_DATA_ROOT\n",
    "limit = 50\n",
    "files = list(\n",
    "    glob.glob(\n",
    "        data_dir + \"**/*.dcm\",\n",
    "        recursive=True,\n",
    "    )\n",
    ")\n",
    "files = [f for f in files if os.path.isfile(f)]\n",
    "print(len(files))\n",
    "\n",
    "files = files[:limit]\n",
    "\n",
    "print(len(files))"
   ]
  },
  {
   "cell_type": "code",
   "execution_count": null,
   "metadata": {},
   "outputs": [
    {
     "name": "stdout",
     "output_type": "stream",
     "text": [
      "Using ml_client base_url 1: https://management.azure.com\n",
      "Using ml_client base_url 2: https://management.azure.com\n"
     ]
    }
   ],
   "source": [
    "client = MedImageInsightClient(settings.MI2_MODEL_ENDPOINT)\n",
    "submitter = client.create_submitter(return_as=\"generator_unordered\")"
   ]
  },
  {
   "cell_type": "code",
   "execution_count": null,
   "metadata": {},
   "outputs": [
    {
     "name": "stderr",
     "output_type": "stream",
     "text": [
      "100%|██████████████████████████████████████████████████████████████████████████████████████████████████████████████████████████████████████████████████████████████████████████████████████████████████████████████████████████████████████████████████████████████████████████████████████████████████████████████████████████████████████████████████████████████████████████████████████████████████████████████████████████████████████████████████████████████████████████████████████████████████████████████████████████████████████████████████████████████████████████████████████████████████████████████████████████████████████████████████████████████████████████████████████████████████████████████████████████████████████████████████████████████████████████████████████████████████████████████████████████████████████████████████████████████████████████████████████████████████████████████████████████████████████████████████████████████████████████████████████████████████| 50/50 [01:04<00:00,  1.28s/it]\n"
     ]
    }
   ],
   "source": [
    "rel_from = data_dir\n",
    "output_file = \"embeddings.jsonl\"\n",
    "f = open(output_file, \"w\")\n",
    "for index, result in submitter.submit(image_list=files, total=len(files)):\n",
    "    path = os.path.relpath(files[index], rel_from)\n",
    "    row = {\n",
    "        \"path\": path,\n",
    "        \"test\": path.startswith((\"test\")),\n",
    "        \"inlier\": path.startswith((\"ref\", \"test/inlier\")),\n",
    "        **result,\n",
    "    }\n",
    "    print(json.dumps(row), file=f)\n",
    "f.close()"
   ]
  },
  {
   "cell_type": "code",
   "execution_count": null,
   "metadata": {},
   "outputs": [
    {
     "data": {
      "text/html": [
       "<div>\n",
       "<style scoped>\n",
       "    .dataframe tbody tr th:only-of-type {\n",
       "        vertical-align: middle;\n",
       "    }\n",
       "\n",
       "    .dataframe tbody tr th {\n",
       "        vertical-align: top;\n",
       "    }\n",
       "\n",
       "    .dataframe thead th {\n",
       "        text-align: right;\n",
       "    }\n",
       "</style>\n",
       "<table border=\"1\" class=\"dataframe\">\n",
       "  <thead>\n",
       "    <tr style=\"text-align: right;\">\n",
       "      <th></th>\n",
       "      <th>path</th>\n",
       "      <th>test</th>\n",
       "      <th>inlier</th>\n",
       "      <th>image_features</th>\n",
       "      <th>scaling_factor</th>\n",
       "      <th>StudyInstanceUID</th>\n",
       "      <th>SeriesInstanceUID</th>\n",
       "    </tr>\n",
       "  </thead>\n",
       "  <tbody>\n",
       "    <tr>\n",
       "      <th>0</th>\n",
       "      <td>ref/CT/1.3.6.1.4.1.55648.212961843974261926001...</td>\n",
       "      <td>False</td>\n",
       "      <td>True</td>\n",
       "      <td>[[-0.054619256407022476, 0.009249498136341572,...</td>\n",
       "      <td>4.513362</td>\n",
       "      <td>1.3.6.1.4.1.55648.2129618439742619260018430695...</td>\n",
       "      <td>1.3.6.1.4.1.55648.2129618439742619260018430695...</td>\n",
       "    </tr>\n",
       "    <tr>\n",
       "      <th>1</th>\n",
       "      <td>ref/CT/1.3.6.1.4.1.55648.212961843974261926001...</td>\n",
       "      <td>False</td>\n",
       "      <td>True</td>\n",
       "      <td>[[-0.052052054554224014, 0.020784486085176468,...</td>\n",
       "      <td>4.513362</td>\n",
       "      <td>1.3.6.1.4.1.55648.2129618439742619260018430695...</td>\n",
       "      <td>1.3.6.1.4.1.55648.2129618439742619260018430695...</td>\n",
       "    </tr>\n",
       "    <tr>\n",
       "      <th>2</th>\n",
       "      <td>ref/CT/1.3.6.1.4.1.55648.212961843974261926001...</td>\n",
       "      <td>False</td>\n",
       "      <td>True</td>\n",
       "      <td>[[-0.05330154299736023, 0.018595069646835327, ...</td>\n",
       "      <td>4.513362</td>\n",
       "      <td>1.3.6.1.4.1.55648.2129618439742619260018430695...</td>\n",
       "      <td>1.3.6.1.4.1.55648.2129618439742619260018430695...</td>\n",
       "    </tr>\n",
       "    <tr>\n",
       "      <th>3</th>\n",
       "      <td>ref/CT/1.3.6.1.4.1.55648.212961843974261926001...</td>\n",
       "      <td>False</td>\n",
       "      <td>True</td>\n",
       "      <td>[[-0.05683630332350731, -0.014662034809589386,...</td>\n",
       "      <td>4.513362</td>\n",
       "      <td>1.3.6.1.4.1.55648.2129618439742619260018430695...</td>\n",
       "      <td>1.3.6.1.4.1.55648.2129618439742619260018430695...</td>\n",
       "    </tr>\n",
       "    <tr>\n",
       "      <th>4</th>\n",
       "      <td>ref/CT/1.3.6.1.4.1.55648.212961843974261926001...</td>\n",
       "      <td>False</td>\n",
       "      <td>True</td>\n",
       "      <td>[[-0.06004421040415764, -0.02760297805070877, ...</td>\n",
       "      <td>4.513362</td>\n",
       "      <td>1.3.6.1.4.1.55648.2129618439742619260018430695...</td>\n",
       "      <td>1.3.6.1.4.1.55648.2129618439742619260018430695...</td>\n",
       "    </tr>\n",
       "  </tbody>\n",
       "</table>\n",
       "</div>"
      ],
      "text/plain": [
       "                                                path   test  inlier  \\\n",
       "0  ref/CT/1.3.6.1.4.1.55648.212961843974261926001...  False    True   \n",
       "1  ref/CT/1.3.6.1.4.1.55648.212961843974261926001...  False    True   \n",
       "2  ref/CT/1.3.6.1.4.1.55648.212961843974261926001...  False    True   \n",
       "3  ref/CT/1.3.6.1.4.1.55648.212961843974261926001...  False    True   \n",
       "4  ref/CT/1.3.6.1.4.1.55648.212961843974261926001...  False    True   \n",
       "\n",
       "                                      image_features  scaling_factor  \\\n",
       "0  [[-0.054619256407022476, 0.009249498136341572,...        4.513362   \n",
       "1  [[-0.052052054554224014, 0.020784486085176468,...        4.513362   \n",
       "2  [[-0.05330154299736023, 0.018595069646835327, ...        4.513362   \n",
       "3  [[-0.05683630332350731, -0.014662034809589386,...        4.513362   \n",
       "4  [[-0.06004421040415764, -0.02760297805070877, ...        4.513362   \n",
       "\n",
       "                                    StudyInstanceUID  \\\n",
       "0  1.3.6.1.4.1.55648.2129618439742619260018430695...   \n",
       "1  1.3.6.1.4.1.55648.2129618439742619260018430695...   \n",
       "2  1.3.6.1.4.1.55648.2129618439742619260018430695...   \n",
       "3  1.3.6.1.4.1.55648.2129618439742619260018430695...   \n",
       "4  1.3.6.1.4.1.55648.2129618439742619260018430695...   \n",
       "\n",
       "                                   SeriesInstanceUID  \n",
       "0  1.3.6.1.4.1.55648.2129618439742619260018430695...  \n",
       "1  1.3.6.1.4.1.55648.2129618439742619260018430695...  \n",
       "2  1.3.6.1.4.1.55648.2129618439742619260018430695...  \n",
       "3  1.3.6.1.4.1.55648.2129618439742619260018430695...  \n",
       "4  1.3.6.1.4.1.55648.2129618439742619260018430695...  "
      ]
     },
     "execution_count": 6,
     "metadata": {},
     "output_type": "execute_result"
    }
   ],
   "source": [
    "with open(output_file, \"r\") as f:\n",
    "    lines = [json.loads(line) for line in f.readlines()]\n",
    "\n",
    "df = pd.DataFrame(lines)\n",
    "\n",
    "df[\"StudyInstanceUID\"] = df[\"path\"].apply(lambda s: s.split(os.path.sep)[-3])\n",
    "df[\"SeriesInstanceUID\"] = df[\"path\"].apply(lambda s: s.split(os.path.sep)[-2])\n",
    "df[\"image_features\"] = df[\"image_features\"].apply(lambda x: np.array(x))\n",
    "\n",
    "df.head()"
   ]
  },
  {
   "cell_type": "code",
   "execution_count": null,
   "metadata": {},
   "outputs": [],
   "source": []
  }
 ],
 "metadata": {
  "kernelspec": {
   "display_name": "azureml_py310_sdkv2",
   "language": "python",
   "name": "python3"
  },
  "language_info": {
   "codemirror_mode": {
    "name": "ipython",
    "version": 3
   },
   "file_extension": ".py",
   "mimetype": "text/x-python",
   "name": "python",
   "nbconvert_exporter": "python",
   "pygments_lexer": "ipython3",
   "version": "3.10.14"
  }
 },
 "nbformat": 4,
 "nbformat_minor": 2
}
