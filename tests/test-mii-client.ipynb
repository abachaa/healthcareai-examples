{
 "cells": [
  {
   "cell_type": "code",
   "execution_count": null,
   "metadata": {},
   "outputs": [],
   "source": [
    "import glob\n",
    "import os\n",
    "import numpy as np\n",
    "import pandas as pd\n",
    "import random\n",
    "import itertools\n",
    "import matplotlib.pyplot as plt\n",
    "\n",
    "from healthcareai_toolkit.clients import MedImageInsightClient\n",
    "from healthcareai_toolkit import settings"
   ]
  },
  {
   "cell_type": "code",
   "execution_count": null,
   "metadata": {},
   "outputs": [],
   "source": [
    "import logging\n",
    "\n",
    "logging.basicConfig(level=logging.DEBUG)\n",
    "logging.info(\"Just printing logging\")"
   ]
  },
  {
   "cell_type": "code",
   "execution_count": null,
   "metadata": {},
   "outputs": [],
   "source": [
    "N = 1\n",
    "\n",
    "data_dir = settings.DATA_ROOT\n",
    "\n",
    "files = list(glob.glob(data_dir + \"**/*.*\", recursive=True))\n",
    "files = [f for f in files if os.path.isfile(f)]\n",
    "files_dict = {\n",
    "    k: list(v) for k, v in itertools.groupby(files, lambda x: x.split(\".\")[-1])\n",
    "}\n",
    "\n",
    "print(files_dict.keys())\n",
    "files = sum([files_dict[k][:N] for k in [\"jpg\", \"dcm\", \"png\", \"jpeg\"]], [])\n",
    "\n",
    "files"
   ]
  },
  {
   "cell_type": "code",
   "execution_count": null,
   "metadata": {},
   "outputs": [],
   "source": [
    "client = MedImageInsightClient(settings.MI2_MODEL_ENDPOINT)"
   ]
  },
  {
   "cell_type": "code",
   "execution_count": null,
   "metadata": {},
   "outputs": [],
   "source": [
    "images = files\n",
    "np_img = client.read_to_image_array(\n",
    "    os.path.join(\n",
    "        data_dir,\n",
    "        \"medimageinsight-classification/images/1.3.6.1.4.1.55648.020128023405162813637635556625961837376.1002.1002.green.dcm\",\n",
    "    )\n",
    ")\n",
    "np_img2 = client.read_to_image_array(\n",
    "    os.path.join(data_dir, \"cxrreportgen-images/cxr_lateral.jpg\")\n",
    ")\n",
    "\n",
    "images.append(np_img)\n",
    "images.append(np_img2)\n",
    "\n",
    "print(np_img.dtype, np_img2.dtype)"
   ]
  },
  {
   "cell_type": "code",
   "execution_count": null,
   "metadata": {},
   "outputs": [],
   "source": [
    "result = client.submit(image_list=images)"
   ]
  },
  {
   "cell_type": "code",
   "execution_count": null,
   "metadata": {},
   "outputs": [],
   "source": [
    "for v in result:\n",
    "    print(v[\"image_features\"][:5])"
   ]
  },
  {
   "cell_type": "code",
   "execution_count": null,
   "metadata": {},
   "outputs": [],
   "source": [
    "import numpy as np\n",
    "\n",
    "\n",
    "def display_vector_as_image(\n",
    "    vector: np.ndarray,\n",
    "    display_width: int = 100,\n",
    "    colormap: str = \"bwr\",\n",
    "    vmin=-0.25,\n",
    "    vmax=0.25,\n",
    "):\n",
    "    N = len(vector)\n",
    "    image = np.tile(vector.reshape((1, N)), (display_width, 1))\n",
    "    plt.imshow(image, cmap=colormap, vmin=vmin, vmax=vmax)\n",
    "    plt.axis(\"off\")\n",
    "    plt.show()\n",
    "\n",
    "\n",
    "vector = np.array(result[0][\"image_features\"])\n",
    "display_vector_as_image(vector.flatten())"
   ]
  },
  {
   "cell_type": "code",
   "execution_count": null,
   "metadata": {},
   "outputs": [],
   "source": []
  }
 ],
 "metadata": {
  "kernelspec": {
   "display_name": "azureml_py310_sdkv2",
   "language": "python",
   "name": "python3"
  },
  "language_info": {
   "codemirror_mode": {
    "name": "ipython",
    "version": 3
   },
   "file_extension": ".py",
   "mimetype": "text/x-python",
   "name": "python",
   "nbconvert_exporter": "python",
   "pygments_lexer": "ipython3",
   "version": "3.10.14"
  }
 },
 "nbformat": 4,
 "nbformat_minor": 2
}
