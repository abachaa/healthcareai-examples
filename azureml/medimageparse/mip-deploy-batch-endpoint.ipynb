{
 "cells": [
  {
   "cell_type": "markdown",
   "metadata": {
    "nteract": {
     "transient": {
      "deleting": false
     }
    }
   },
   "source": [
    "# Deploying and Using MedImageParse model for Inference using Batch Endpoints\n",
    "This example illustrates how to deploy MedImageParse, a state-of-the-art segmentation model tailored for biomedical imaging. For this Notebook, we use Python 3.10, AzureML v2.\n",
    "\n",
    "### Task\n",
    "The primary task is semantic segmentation, where the goal is to identify and label specific regions within an image based on their semantic meaning using a submitted image and a text prompt.\n",
    " \n",
    "### Model\n",
    "MedImageParse is powered by a transformer-based architecture, fine-tuned for segmentation tasks on extensive biomedical image datasets. It is designed to excel in handling complex segmentation challenges across diverse imaging modalities. \n",
    "\n",
    "### Inference data\n",
    "For this demonstration, we will use histopathology images stained with HE (Hematoxylin and Eosin) and focus on cell phenotyping, segmenting and identifying different types of cells in the tissue sample.\n",
    "\n",
    "### Outline\n",
    "1. Setup pre-requisites\n",
    "2. Pick a model to deploy\n",
    "3. Deploy the model to an batch endpoint\n",
    "4. Test the endpoint\n",
    "5. Clean up resources - delete the endpoint\n"
   ]
  },
  {
   "cell_type": "markdown",
   "metadata": {
    "nteract": {
     "transient": {
      "deleting": false
     }
    }
   },
   "source": [
    "## 1. Setup pre-requisites\n",
    "* Install [Azure ML Client library for Python](https://learn.microsoft.com/en-us/python/api/overview/azure/ai-ml-readme?view=azure-python)\n",
    "* Connect to AzureML Workspace and authenticate."
   ]
  },
  {
   "cell_type": "code",
   "execution_count": null,
   "metadata": {
    "gather": {
     "logged": 1741730097817
    }
   },
   "outputs": [],
   "source": [
    "from azure.ai.ml import MLClient, Input\n",
    "from azure.ai.ml.entities import (\n",
    "    BatchEndpoint,\n",
    "    ModelBatchDeployment,\n",
    "    ModelBatchDeploymentSettings,\n",
    "    Model,\n",
    "    AmlCompute,\n",
    "    Data,\n",
    "    BatchRetrySettings,\n",
    "    CodeConfiguration,\n",
    "    Environment,\n",
    ")\n",
    "from azure.ai.ml.constants import AssetTypes, BatchDeploymentOutputAction\n",
    "from azure.identity import DefaultAzureCredential\n",
    "import pandas as pd\n",
    "\n",
    "credential = DefaultAzureCredential()\n",
    "ml_workspace = MLClient.from_config(credential)\n",
    "print(\"Workspace:\", ml_workspace)\n",
    "ml_registry = MLClient(credential, registry_name=\"azureml\")\n",
    "print(\"Registry:\", ml_registry)"
   ]
  },
  {
   "cell_type": "markdown",
   "metadata": {
    "nteract": {
     "transient": {
      "deleting": false
     }
    }
   },
   "source": [
    "## 2. Pick a model to deploy\n",
    "\n",
    "In this example, we use the `MedImageParse` model. If you have opened this notebook for a different model, replace the model name accordingly."
   ]
  },
  {
   "cell_type": "code",
   "execution_count": null,
   "metadata": {
    "gather": {
     "logged": 1741730098160
    }
   },
   "outputs": [],
   "source": [
    "model = ml_registry.models.get(name=\"MedImageParse\", label=\"latest\")\n",
    "model"
   ]
  },
  {
   "cell_type": "markdown",
   "metadata": {
    "nteract": {
     "transient": {
      "deleting": false
     }
    }
   },
   "source": [
    "## 3. Deploy the model to an online endpoint for real time inference\n",
    "Online endpoints give a durable REST API that can be used to integrate with applications that need to use the model.\n",
    "\n",
    "The steps below show how to deploy an endpoint programmatically. You can skip the steps in this section if you just want to test an existing endpoint. "
   ]
  },
  {
   "cell_type": "markdown",
   "metadata": {
    "nteract": {
     "transient": {
      "deleting": false
     }
    }
   },
   "source": [
    "### Create compute cluster"
   ]
  },
  {
   "cell_type": "code",
   "execution_count": null,
   "metadata": {
    "gather": {
     "logged": 1741730105601
    }
   },
   "outputs": [],
   "source": [
    "compute_name = \"mip-batch-cluster\"\n",
    "if not any(filter(lambda m: m.name == compute_name, ml_workspace.compute.list())):\n",
    "    compute_cluster = AmlCompute(\n",
    "        name=compute_name,\n",
    "        description=\"GPU cluster compute for MedImageParse inference\",\n",
    "        min_instances=0,\n",
    "        max_instances=1,\n",
    "        size=\"Standard_NC6s_v3\",\n",
    "    )\n",
    "    ml_workspace.compute.begin_create_or_update(compute_cluster).result()"
   ]
  },
  {
   "cell_type": "markdown",
   "metadata": {
    "nteract": {
     "transient": {
      "deleting": false
     }
    }
   },
   "source": [
    "### Create batch endpoint"
   ]
  },
  {
   "cell_type": "code",
   "execution_count": null,
   "metadata": {
    "gather": {
     "logged": 1741730108434
    }
   },
   "outputs": [],
   "source": [
    "import random\n",
    "import string\n",
    "\n",
    "endpoint_prefix = \"mip-batch\"\n",
    "endpoint_list = list(\n",
    "    filter(\n",
    "        lambda m: m.name.startswith(endpoint_prefix),\n",
    "        ml_workspace.batch_endpoints.list(),\n",
    "    )\n",
    ")\n",
    "\n",
    "if endpoint_list:\n",
    "    endpoint = endpoint_list and endpoint_list[0]\n",
    "    print(\"Found existing endpoint:\", endpoint.name)\n",
    "else:\n",
    "    # Creating a unique endpoint name by including a random suffix\n",
    "    allowed_chars = string.ascii_lowercase + string.digits\n",
    "    endpoint_suffix = \"\".join(random.choice(allowed_chars) for x in range(5))\n",
    "    endpoint_name = f\"{endpoint_prefix}-{endpoint_suffix}\"\n",
    "    endpoint = BatchEndpoint(\n",
    "        name=endpoint_name,\n",
    "        description=\"A batch endpoint for scoring images from MedImageParse.\",\n",
    "        tags={\"type\": \"medimageparse\"},\n",
    "    )\n",
    "    ml_workspace.begin_create_or_update(endpoint).result()\n",
    "    print(f\"Created new endpoint: {endpoint_name}\")"
   ]
  },
  {
   "cell_type": "markdown",
   "metadata": {
    "nteract": {
     "transient": {
      "deleting": false
     }
    }
   },
   "source": [
    "### Deploy MedImageParse to batch endpoint\n",
    "\n",
    "- **max_concurrency_per_instance**: Determines the number of worker process to spawn. Each worker process loads the model into GPU. We want to use multiple worker process to maximize GPU utilization, but not exceed available GPU memory.\n",
    "- **retry_settings**: Timeout may need to be adjusted based on batch size. Larger batch size requires longer timeout; otherwise, worker process may end prematurely."
   ]
  },
  {
   "cell_type": "code",
   "execution_count": null,
   "metadata": {
    "gather": {
     "logged": 1741731514224
    }
   },
   "outputs": [],
   "source": [
    "deployment = ModelBatchDeployment(\n",
    "    name=\"mip-dpl\",\n",
    "    description=\"A deployment for model MedImageParse\",\n",
    "    endpoint_name=endpoint.name,\n",
    "    model=model,\n",
    "    compute=compute_name,\n",
    "    settings=ModelBatchDeploymentSettings(\n",
    "        max_concurrency_per_instance=4,\n",
    "        mini_batch_size=1,\n",
    "        instance_count=1,\n",
    "        output_action=BatchDeploymentOutputAction.APPEND_ROW,\n",
    "        output_file_name=\"predictions.csv\",\n",
    "        retry_settings=BatchRetrySettings(max_retries=3, timeout=300),\n",
    "        logging_level=\"info\",\n",
    "    ),\n",
    ")\n",
    "ml_workspace.begin_create_or_update(deployment).result()"
   ]
  },
  {
   "cell_type": "code",
   "execution_count": null,
   "metadata": {},
   "outputs": [],
   "source": [
    "ml_workspace.batch_endpoints.get_logs()"
   ]
  },
  {
   "cell_type": "code",
   "execution_count": null,
   "metadata": {
    "gather": {
     "logged": 1740784549318
    }
   },
   "outputs": [],
   "source": [
    "endpoint = ml_workspace.batch_endpoints.get(endpoint.name)\n",
    "endpoint.defaults.deployment_name = deployment.name\n",
    "ml_workspace.batch_endpoints.begin_create_or_update(endpoint).result()\n",
    "print(f\"The default deployment is {endpoint.defaults.deployment_name}\")"
   ]
  },
  {
   "cell_type": "markdown",
   "metadata": {
    "nteract": {
     "transient": {
      "deleting": false
     }
    }
   },
   "source": [
    "## 4 Test the endpoint - base64 encoded image and text"
   ]
  },
  {
   "cell_type": "markdown",
   "metadata": {
    "nteract": {
     "transient": {
      "deleting": false
     }
    }
   },
   "source": [
    "### Load test dataset\n",
    "Download the test dataset using command `azcopy copy --recursive https://azuremlexampledata.blob.core.windows.net/data/healthcare-ai/ /home/azureuser/data/`"
   ]
  },
  {
   "cell_type": "code",
   "execution_count": null,
   "metadata": {
    "gather": {
     "logged": 1740784549462
    }
   },
   "outputs": [],
   "source": [
    "import glob\n",
    "\n",
    "root_dir = \"/home/azureuser/data/healthcare-ai/medimageinsight-examparameter/pngs\"\n",
    "\n",
    "png_files = glob.glob(f\"{root_dir}/**/*.png\", recursive=True)\n",
    "print(f\"Found {len(png_files)} PNG files\")"
   ]
  },
  {
   "cell_type": "markdown",
   "metadata": {
    "nteract": {
     "transient": {
      "deleting": false
     }
    }
   },
   "source": [
    "### Create the input CSV file"
   ]
  },
  {
   "cell_type": "markdown",
   "metadata": {},
   "source": [
    "#### Zero-Padding Batch Filenames\n",
    "\n",
    ">In the example below only one batch is created (batch_input_001.csv). If you need to create more batches please make sure to use the zero-padding batch index.\n",
    "\n",
    "For more detailed example please refer to the MedImageInsight notebook `mi2-deploy-batch-endpoint.ipynb`.   \n",
    "In that notebook, the function `write_to_csv()` will automatically create batch files with  **zero-padded numeric suffixes** (e.g., `batch_input_001.csv`, `batch_input_002.csv`, ..., `batch_input_010.csv`). \n",
    "It's essential to use that index for enumerating your batches. \n",
    "\n",
    "This ensures that files are **sorted in the correct numerical order**, rather than lexicographic string order. E.g., without padding, `batch10` would appear **before** `batch2` or `batch3` when sorting, which can lead to confusing or incorrect alignment between batch input files and batch output results. Zero-padding helps maintain predictable ordering and avoids mismatches during downstream processing or aggregation."
   ]
  },
  {
   "cell_type": "code",
   "execution_count": null,
   "metadata": {
    "gather": {
     "logged": 1740784550103
    }
   },
   "outputs": [],
   "source": [
    "import base64\n",
    "import os\n",
    "\n",
    "\n",
    "def read_base64_image(image_path):\n",
    "    with open(image_path, \"rb\") as f:\n",
    "        return base64.b64encode(f.read()).decode(\"utf-8\")\n",
    "\n",
    "\n",
    "data = []\n",
    "for f in png_files:\n",
    "    base64_image = read_base64_image(f)\n",
    "    data.append([base64_image, \"abnormality\"])\n",
    "\n",
    "csv_path = os.path.join(os.getcwd(), \"batch_input_001.csv\")\n",
    "df_input = pd.DataFrame(data, columns=[\"image\", \"text\"])\n",
    "df_input.to_csv(csv_path)"
   ]
  },
  {
   "cell_type": "markdown",
   "metadata": {
    "nteract": {
     "transient": {
      "deleting": false
     }
    }
   },
   "source": [
    "### Load the test dataset into AzureML"
   ]
  },
  {
   "cell_type": "code",
   "execution_count": null,
   "metadata": {
    "gather": {
     "logged": 1740784552092
    }
   },
   "outputs": [],
   "source": [
    "dataset_name = \"mip-png-dataset\"\n",
    "\n",
    "png_dataset = Data(\n",
    "    path=csv_path,\n",
    "    type=AssetTypes.URI_FILE,\n",
    "    description=\"An unlabeled dataset for heart classification\",\n",
    "    name=dataset_name,\n",
    ")\n",
    "\n",
    "ml_workspace.data.create_or_update(png_dataset)"
   ]
  },
  {
   "cell_type": "markdown",
   "metadata": {
    "nteract": {
     "transient": {
      "deleting": false
     }
    }
   },
   "source": [
    "### Verify the test dataset is uploaded successfully"
   ]
  },
  {
   "cell_type": "code",
   "execution_count": null,
   "metadata": {
    "gather": {
     "logged": 1740784552223
    }
   },
   "outputs": [],
   "source": [
    "ml_workspace.data.get(name=dataset_name, label=\"latest\")"
   ]
  },
  {
   "cell_type": "markdown",
   "metadata": {
    "nteract": {
     "transient": {
      "deleting": false
     }
    }
   },
   "source": [
    "### Submit a job to the batch endpoint"
   ]
  },
  {
   "cell_type": "code",
   "execution_count": null,
   "metadata": {
    "gather": {
     "logged": 1740784552341
    }
   },
   "outputs": [],
   "source": [
    "input = Input(type=AssetTypes.URI_FILE, path=png_dataset.path)\n",
    "input"
   ]
  },
  {
   "cell_type": "code",
   "execution_count": null,
   "metadata": {
    "gather": {
     "logged": 1740784560413
    }
   },
   "outputs": [],
   "source": [
    "job = ml_workspace.batch_endpoints.invoke(endpoint_name=endpoint.name, input=input)"
   ]
  },
  {
   "cell_type": "code",
   "execution_count": null,
   "metadata": {
    "gather": {
     "logged": 1740785453165
    }
   },
   "outputs": [],
   "source": [
    "# Monitor job progress\n",
    "ml_workspace.jobs.stream(job.name)"
   ]
  },
  {
   "cell_type": "markdown",
   "metadata": {
    "nteract": {
     "transient": {
      "deleting": false
     }
    }
   },
   "source": [
    "### Download the job output\n",
    "MedImageParse embeddings can be found in file `named-outputs/score/predictions.csv`"
   ]
  },
  {
   "cell_type": "code",
   "execution_count": null,
   "metadata": {
    "gather": {
     "logged": 1740785702373
    }
   },
   "outputs": [],
   "source": [
    "scoring_job = list(ml_workspace.jobs.list(parent_job_name=job.name))[0]\n",
    "scoring_job"
   ]
  },
  {
   "cell_type": "code",
   "execution_count": null,
   "metadata": {
    "gather": {
     "logged": 1740785706092
    }
   },
   "outputs": [],
   "source": [
    "ml_workspace.jobs.download(\n",
    "    name=scoring_job.name, download_path=\".\", output_name=\"score\"\n",
    ")"
   ]
  },
  {
   "cell_type": "markdown",
   "metadata": {
    "nteract": {
     "transient": {
      "deleting": false
     }
    }
   },
   "source": [
    "### Load job result"
   ]
  },
  {
   "cell_type": "code",
   "execution_count": null,
   "metadata": {
    "gather": {
     "logged": 1740785710091
    }
   },
   "outputs": [],
   "source": [
    "pred_csv_path = os.path.join(\"named-outputs\", \"score\", \"predictions.csv\")\n",
    "df_result = pd.read_csv(pred_csv_path, header=None)\n",
    "print(\"df_result.shape:\", df_result.shape)\n",
    "print(df_result.iloc[0])  # print first row"
   ]
  },
  {
   "cell_type": "markdown",
   "metadata": {
    "nteract": {
     "transient": {
      "deleting": false
     }
    }
   },
   "source": [
    "### Display job result"
   ]
  },
  {
   "cell_type": "code",
   "execution_count": null,
   "metadata": {
    "gather": {
     "logged": 1740785713161
    }
   },
   "outputs": [],
   "source": [
    "import base64\n",
    "import json\n",
    "import matplotlib.pyplot as plt\n",
    "import numpy as np\n",
    "\n",
    "\n",
    "def parse_image(json_encoded):\n",
    "    \"\"\"Decode an image pixel data array in JSON.\n",
    "    Return image pixel data as an array.\n",
    "    \"\"\"\n",
    "    # Parse the JSON string\n",
    "    array_metadata = json.loads(json_encoded)\n",
    "    # Extract Base64 string, shape, and dtype\n",
    "    base64_encoded = array_metadata[\"data\"]\n",
    "    shape = tuple(array_metadata[\"shape\"])\n",
    "    dtype = np.dtype(array_metadata[\"dtype\"])\n",
    "    # Decode Base64 to byte string\n",
    "    array_bytes = base64.b64decode(base64_encoded)\n",
    "    # Convert byte string back to NumPy array and reshape\n",
    "    array = np.frombuffer(array_bytes, dtype=dtype).reshape(shape)\n",
    "    return array\n",
    "\n",
    "\n",
    "def parse_labels(s):\n",
    "    return json.loads(s.replace(\"'\", '\"'))\n",
    "\n",
    "\n",
    "def convert_to_rgba(image_np):\n",
    "    # Convert the image to 4 channels by adding an alpha channel\n",
    "    alpha_channel = (\n",
    "        np.ones((image_np.shape[0], image_np.shape[1], 1), dtype=image_np.dtype) * 255\n",
    "    )\n",
    "    image_rgba_np = np.concatenate((image_np, alpha_channel), axis=2)\n",
    "    return image_rgba_np\n",
    "\n",
    "\n",
    "def plot_segmentation_masks(original_image, segmentation_masks, labels):\n",
    "    \"\"\"Plot a list of segmentation mask over an image.\"\"\"\n",
    "    fig, ax = plt.subplots(1, len(segmentation_masks) + 1, figsize=(10, 5))\n",
    "    ax[0].imshow(original_image)\n",
    "    ax[0].set_title(\"Original Image\")\n",
    "\n",
    "    for i, mask in enumerate(segmentation_masks):\n",
    "        ax[i + 1].imshow(original_image)\n",
    "        ax[i + 1].set_title(labels[i])\n",
    "        mask_temp = original_image.copy()\n",
    "        mask_temp[mask > 128] = [255, 0, 0, 255]\n",
    "        mask_temp[mask <= 128] = [0, 0, 0, 0]\n",
    "        ax[i + 1].imshow(mask_temp, alpha=0.9)\n",
    "    plt.show()"
   ]
  },
  {
   "cell_type": "code",
   "execution_count": null,
   "metadata": {
    "gather": {
     "logged": 1740785751168
    }
   },
   "outputs": [],
   "source": [
    "for index in range(len(df_input)):\n",
    "    orig_image = convert_to_rgba(plt.imread(png_files[index]))\n",
    "    result = df_result.iloc[index]\n",
    "\n",
    "    image_features = parse_image(result.iloc[1])\n",
    "    labels = parse_labels(result.iloc[2].replace(\"'\", '\"'))\n",
    "\n",
    "    # # Plot feature over image\n",
    "    print(f\"Image {index}\")\n",
    "    plot_segmentation_masks(orig_image, image_features, labels)"
   ]
  },
  {
   "cell_type": "markdown",
   "metadata": {
    "nteract": {
     "transient": {
      "deleting": false
     }
    }
   },
   "source": [
    "## 5. Clean up resources - delete the batch endpoint"
   ]
  },
  {
   "cell_type": "code",
   "execution_count": null,
   "metadata": {},
   "outputs": [],
   "source": [
    "ml_workspace.batch_endpoints.begin_delete(endpoint_name).result()"
   ]
  }
 ],
 "metadata": {
  "kernel_info": {
   "name": "python310-sdkv2"
  },
  "kernelspec": {
   "display_name": "Python 3.10 - SDK v2",
   "language": "python",
   "name": "python310-sdkv2"
  },
  "language_info": {
   "codemirror_mode": {
    "name": "ipython",
    "version": 3
   },
   "file_extension": ".py",
   "mimetype": "text/x-python",
   "name": "python",
   "nbconvert_exporter": "python",
   "pygments_lexer": "ipython3",
   "version": "3.10.14"
  },
  "microsoft": {
   "host": {
    "AzureML": {
     "notebookHasBeenCompleted": true
    }
   },
   "ms_spell_check": {
    "ms_spell_check_language": "en"
   }
  },
  "nteract": {
   "version": "nteract-front-end@1.0.0"
  }
 },
 "nbformat": 4,
 "nbformat_minor": 2
}
